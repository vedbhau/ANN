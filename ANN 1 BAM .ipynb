{
 "cells": [
  {
   "cell_type": "markdown",
   "id": "f64099df",
   "metadata": {},
   "source": [
    "BAM Concept:\n",
    "Bidirectional Associative Memory (BAM) is a type of associative memory that stores pairs of patterns (input and output) and can recall an associated output given an input or vice versa.\n",
    "\n",
    "In the code:\n",
    "\n",
    "The weights (w1, w2, w3, w4) are calculated such that when multiplied by an input pattern, they should yield the corresponding output pattern.\n",
    "The sigmoid function acts as a thresholding function. If the result of the weighted sum is positive, it outputs 1; otherwise, it outputs -1.\n",
    "\n",
    "Here's how the BAM concept is applied:\n",
    "\n",
    "Training:\n",
    "During training, the weights are calculated using the outer product of input and output patterns. These weights form associations between input and output patterns.\n",
    "\n",
    "Prediction:\n",
    "To predict the output pattern given an input pattern, the input pattern is multiplied by the weight matrix. The result is passed through the sigmoid function to obtain the predicted output.\n",
    "Similarly, to predict the input pattern given an output pattern, the output pattern is multiplied by the weight matrix (transposed). Again, the result is passed through the sigmoid function to obtain the predicted input.\n",
    "\n",
    "Recall:\n",
    "BAM recalls the associated pattern based on the given input or output. If an input pattern is given, it recalls the associated output pattern, and if an output pattern is given, it recalls the associated input pattern.\n",
    "\n",
    "In short, BAM can store and retrieve associations between input and output patterns bidirectionally. It's a useful model for pattern recognition, associative recall, and error correction"
   ]
  },
  {
   "cell_type": "code",
   "execution_count": 1,
   "id": "e78f1dc4",
   "metadata": {},
   "outputs": [
    {
     "name": "stdout",
     "output_type": "stream",
     "text": [
      "Weight1: \n",
      " [[ 1 -1  1 -1  1 -1]\n",
      " [-1  1 -1  1 -1  1]\n",
      " [ 1 -1  1 -1  1 -1]]\n",
      "Weight2: \n",
      " [[ 1 -1  1  1 -1  1]\n",
      " [-1  1 -1 -1  1 -1]\n",
      " [ 1 -1  1  1 -1  1]]\n",
      "Weight3: \n",
      " [[1 1 1 1 1 1]\n",
      " [1 1 1 1 1 1]\n",
      " [1 1 1 1 1 1]]\n",
      "Weight4: \n",
      " [[ 1  1 -1  1  1 -1]\n",
      " [ 1  1 -1  1  1 -1]\n",
      " [-1 -1  1 -1 -1  1]]\n",
      "[1, -1, 1]\n",
      "[1, -1, 1]\n",
      "[-1, -1, -1]\n",
      "[1, 1, -1]\n",
      "[1, -1, 1, -1, 1, -1]\n",
      "[1, -1, 1, 1, -1, 1]\n",
      "[-1, -1, -1, -1, -1, -1]\n",
      "[1, 1, -1, 1, 1, -1]\n"
     ]
    }
   ],
   "source": [
    "import numpy as np\n",
    "# Input Patterns\n",
    "x1 = np.array([1,-1,1,-1,1,-1]).reshape(6,1)\n",
    "x2 = np.array([1,-1,1,1,-1,1]).reshape(6,1)\n",
    "x3 = np.array([-1,-1,-1,-1,-1,-1]).reshape(6,1)\n",
    "x4 = np.array([1,1,-1,1,1,-1]).reshape(6,1)\n",
    "\n",
    "# Output Patterns\n",
    "y1 = np.array([1,-1,1]).reshape(3,1)\n",
    "y2 = np.array([1,-1,1]).reshape(3,1)\n",
    "y3 = np.array([-1,-1,-1]).reshape(3,1)\n",
    "y4 = np.array([1,1,-1]).reshape(3,1)\n",
    "\n",
    "\n",
    "\n",
    "\n",
    "\n",
    "# Calculating weights\n",
    "w1 = y1@x1.T\n",
    "w2 = y2@x2.T\n",
    "w3 = y3@x3.T\n",
    "w4 = y4@x4.T\n",
    "\n",
    "print(\"Weight1: \\n\",w1)\n",
    "print(\"Weight2: \\n\",w2)\n",
    "print(\"Weight3: \\n\",w3)\n",
    "print(\"Weight4: \\n\",w4)\n",
    "\n",
    "\n",
    "\n",
    "\n",
    "\n",
    "def sigmoid(weight):\n",
    "    temp = []\n",
    "    for i in weight:\n",
    "        if i > 0:\n",
    "            temp.append(1)\n",
    "        else:\n",
    "            temp.append(-1)\n",
    "    return temp\n",
    "\n",
    "# Output Predicted\n",
    "Ym1 = sigmoid(w1@x1)\n",
    "print(Ym1)\n",
    "Ym2 = sigmoid(w2@x2)\n",
    "print(Ym2)\n",
    "Ym3 = sigmoid(w3@x3)\n",
    "print(Ym3)\n",
    "Ym4 = sigmoid(w4@x4)\n",
    "print(Ym4)\n",
    "\n",
    "\n",
    "\n",
    "\n",
    "\n",
    "# Input from Predicted Output\n",
    "Xm1 = sigmoid(Ym1@w1)\n",
    "print(Xm1)\n",
    "Xm2 = sigmoid(Ym2@w2)\n",
    "print(Xm2)\n",
    "Xm3 = sigmoid(Ym3@w3)\n",
    "print(Xm3)\n",
    "Xm4 = sigmoid(Ym4@w4)\n",
    "print(Xm4)"
   ]
  },
  {
   "cell_type": "code",
   "execution_count": null,
   "id": "d11889db",
   "metadata": {},
   "outputs": [],
   "source": []
  }
 ],
 "metadata": {
  "kernelspec": {
   "display_name": "Python 3 (ipykernel)",
   "language": "python",
   "name": "python3"
  },
  "language_info": {
   "codemirror_mode": {
    "name": "ipython",
    "version": 3
   },
   "file_extension": ".py",
   "mimetype": "text/x-python",
   "name": "python",
   "nbconvert_exporter": "python",
   "pygments_lexer": "ipython3",
   "version": "3.9.13"
  },
  "varInspector": {
   "cols": {
    "lenName": 16,
    "lenType": 16,
    "lenVar": 40
   },
   "kernels_config": {
    "python": {
     "delete_cmd_postfix": "",
     "delete_cmd_prefix": "del ",
     "library": "var_list.py",
     "varRefreshCmd": "print(var_dic_list())"
    },
    "r": {
     "delete_cmd_postfix": ") ",
     "delete_cmd_prefix": "rm(",
     "library": "var_list.r",
     "varRefreshCmd": "cat(var_dic_list()) "
    }
   },
   "types_to_exclude": [
    "module",
    "function",
    "builtin_function_or_method",
    "instance",
    "_Feature"
   ],
   "window_display": false
  }
 },
 "nbformat": 4,
 "nbformat_minor": 5
}
