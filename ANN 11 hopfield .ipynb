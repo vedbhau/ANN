{
 "cells": [
  {
   "cell_type": "markdown",
   "id": "d69c80e4",
   "metadata": {},
   "source": [
    "\n",
    "The Hopfield network is a type of recurrent neural network (RNN) used for associative memory and pattern recognition tasks. It was invented by John Hopfield in 1982. Here's a breakdown of the Hopfield network concept:\n",
    "\n",
    "Structure of a Hopfield Network:\n",
    "Neurons:\n",
    "A Hopfield network consists of a set of interconnected neurons. Each neuron in the network represents a memory or pattern element.\n",
    "\n",
    "Connections:\n",
    "Each neuron is connected to every other neuron in the network, forming a fully connected network.\n",
    "The connections between neurons are symmetric, meaning the connection weights are the same in both directions.\n",
    "\n",
    "Activation:\n",
    "Neurons in a Hopfield network are binary neurons, meaning they can be either in an \"on\" state (1) or an \"off\" state (0).\n",
    "\n",
    "Activation Function:\n",
    "The activation function used in a Hopfield network is usually a sign function, which maps the input to either -1 or 1.\n",
    "\n",
    "Working of a Hopfield Network:\n",
    "Training:\n",
    "The weights of the connections in a Hopfield network are set based on the patterns or memories to be stored.\n",
    "\n",
    "Applications of Hopfield Networks:\n",
    "Pattern recognition\n",
    "Associative memory\n",
    "Optimization problems (e.g., traveling salesman problem)\n",
    "Error correction in communication systems\n",
    "\n",
    "Hopfield networks are simple yet powerful models that demonstrate the principles of associative memory and attractor dynamics in neural networks. They have been extensively studied and applied in various fields due to their interesting properties and computational capabilities.\n"
   ]
  },
  {
   "cell_type": "code",
   "execution_count": 1,
   "id": "77cacb75",
   "metadata": {},
   "outputs": [
    {
     "name": "stdout",
     "output_type": "stream",
     "text": [
      "Input vector: [-1 -1  1 -1]\n",
      "Output vector: [-1 -1  1 -1]\n"
     ]
    },
    {
     "data": {
      "text/plain": [
       "array([[ 0,  0,  0, -4],\n",
       "       [ 0,  0, -4,  0],\n",
       "       [ 0, -4,  0,  0],\n",
       "       [-4,  0,  0,  0]])"
      ]
     },
     "execution_count": 1,
     "metadata": {},
     "output_type": "execute_result"
    }
   ],
   "source": [
    "import numpy as np\n",
    "\n",
    "\n",
    "v1 = np.array([1, -1, 1, -1])\n",
    "v2 = np.array([-1, 1, -1, 1])\n",
    "v3 = np.array([1, 1, -1, -1])\n",
    "v4 = np.array([-1, -1, 1, 1])\n",
    "\n",
    "\n",
    "w = np.outer(v1, v1) + np.outer(v2, v2) + np.outer(v3, v3) + np.outer(v4, v4) \n",
    "\n",
    "\n",
    "np.fill_diagonal(w, 0)\n",
    "\n",
    "\n",
    "def activation(x):\n",
    "    return np.where(x >= 0, 1, -1)\n",
    "\n",
    "\n",
    "def hopfield_network(input_vector, weight_matrix, activation_function, iterations):\n",
    "    \n",
    "    state = input_vector\n",
    "    \n",
    "    for i in range(iterations):\n",
    "        \n",
    "        net_input = np.dot(weight_matrix, state)\n",
    "        \n",
    "        new_state = activation_function(net_input)\n",
    "        \n",
    "        if np.array_equal(new_state, state):\n",
    "            \n",
    "            return new_state\n",
    "        \n",
    "        state = new_state\n",
    "    \n",
    "    return state\n",
    "\n",
    "\n",
    "input_vector = np.array([-1, -1, 1, -1])\n",
    "output_vector = hopfield_network(input_vector, w, activation, 10)\n",
    "print(\"Input vector:\", input_vector)\n",
    "print(\"Output vector:\", output_vector)\n",
    "w"
   ]
  },
  {
   "cell_type": "code",
   "execution_count": null,
   "id": "cc3c2acf",
   "metadata": {},
   "outputs": [],
   "source": []
  }
 ],
 "metadata": {
  "kernelspec": {
   "display_name": "Python 3 (ipykernel)",
   "language": "python",
   "name": "python3"
  },
  "language_info": {
   "codemirror_mode": {
    "name": "ipython",
    "version": 3
   },
   "file_extension": ".py",
   "mimetype": "text/x-python",
   "name": "python",
   "nbconvert_exporter": "python",
   "pygments_lexer": "ipython3",
   "version": "3.9.13"
  },
  "varInspector": {
   "cols": {
    "lenName": 16,
    "lenType": 16,
    "lenVar": 40
   },
   "kernels_config": {
    "python": {
     "delete_cmd_postfix": "",
     "delete_cmd_prefix": "del ",
     "library": "var_list.py",
     "varRefreshCmd": "print(var_dic_list())"
    },
    "r": {
     "delete_cmd_postfix": ") ",
     "delete_cmd_prefix": "rm(",
     "library": "var_list.r",
     "varRefreshCmd": "cat(var_dic_list()) "
    }
   },
   "types_to_exclude": [
    "module",
    "function",
    "builtin_function_or_method",
    "instance",
    "_Feature"
   ],
   "window_display": false
  }
 },
 "nbformat": 4,
 "nbformat_minor": 5
}
