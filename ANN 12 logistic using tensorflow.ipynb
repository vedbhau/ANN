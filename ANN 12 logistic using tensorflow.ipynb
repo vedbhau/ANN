{
 "cells": [
  {
   "cell_type": "markdown",
   "id": "9b526b83",
   "metadata": {},
   "source": [
    "\n",
    "Logistic regression is a statistical method used for binary classification tasks. It models the probability of a binary outcome based on one or more predictor variables by applying the logistic function to a linear combination of the predictors. It's simple, interpretable, and widely used in fields like medicine, finance, and social sciences.\n",
    "\n",
    "TensorFlow is an open-source machine learning framework developed by Google. It provides a comprehensive ecosystem of tools, libraries, and resources for building and deploying machine learning models. TensorFlow allows users to create and train various types of machine learning models, including deep neural networks, using high-level APIs like Keras or through its lower-level TensorFlow APIs. It supports both CPU and GPU computation, making it suitable for a wide range of applications, from research to production deployment. TensorFlow is widely used in academia and industry for tasks such as image classification, natural language processing, reinforcement learning, and more."
   ]
  },
  {
   "cell_type": "code",
   "execution_count": null,
   "id": "4a45b159",
   "metadata": {},
   "outputs": [],
   "source": [
    "import tensorflow as tf\n",
    "import numpy as np\n",
    "from sklearn.model_selection import train_test_split\n",
    "from sklearn.preprocessing import StandardScaler\n",
    "from sklearn.datasets import load_breast_cancer\n",
    "\n",
    "df=load_breast_cancer()\n",
    "\n",
    "X_train,X_test,y_train,y_test=train_test_split(df.data,df.target,test_size=0.20,random_state=42)\n",
    "\n",
    "sc=StandardScaler()\n",
    "X_train=sc.fit_transform(X_train)\n",
    "X_test=sc.transform(X_test)\n",
    "\n",
    "model=tf.keras.models.Sequential([tf.keras.layers.Dense(1,activation='sigmoid',input_shape=(X_train.shape[1],))])\n",
    "\n",
    "model.compile(optimizer='adam',loss='binary_crossentropy',metrics=['accuracy'])\n",
    "\n",
    "model.fit(X_train,y_train,epochs=5)\n",
    "\n",
    "y_pred=model.predict(X_test)\n",
    "\n",
    "test_loss,test_accuracy=model.evaluate(X_test,y_test)\n",
    "\n",
    "print(\"accuracy is\",test_accuracy)"
   ]
  },
  {
   "cell_type": "code",
   "execution_count": null,
   "id": "e1592fef",
   "metadata": {},
   "outputs": [],
   "source": []
  }
 ],
 "metadata": {
  "kernelspec": {
   "display_name": "Python 3 (ipykernel)",
   "language": "python",
   "name": "python3"
  },
  "language_info": {
   "codemirror_mode": {
    "name": "ipython",
    "version": 3
   },
   "file_extension": ".py",
   "mimetype": "text/x-python",
   "name": "python",
   "nbconvert_exporter": "python",
   "pygments_lexer": "ipython3",
   "version": "3.9.13"
  },
  "varInspector": {
   "cols": {
    "lenName": 16,
    "lenType": 16,
    "lenVar": 40
   },
   "kernels_config": {
    "python": {
     "delete_cmd_postfix": "",
     "delete_cmd_prefix": "del ",
     "library": "var_list.py",
     "varRefreshCmd": "print(var_dic_list())"
    },
    "r": {
     "delete_cmd_postfix": ") ",
     "delete_cmd_prefix": "rm(",
     "library": "var_list.r",
     "varRefreshCmd": "cat(var_dic_list()) "
    }
   },
   "types_to_exclude": [
    "module",
    "function",
    "builtin_function_or_method",
    "instance",
    "_Feature"
   ],
   "window_display": false
  }
 },
 "nbformat": 4,
 "nbformat_minor": 5
}
