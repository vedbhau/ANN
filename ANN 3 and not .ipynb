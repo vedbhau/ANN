{
 "cells": [
  {
   "cell_type": "code",
   "execution_count": 1,
   "id": "ead6a8cc",
   "metadata": {},
   "outputs": [
    {
     "name": "stdout",
     "output_type": "stream",
     "text": [
      "Neuron not activated\n",
      "Input: (0, 0) -> Output: 0\n",
      "Input: (0, 1) -> Output: 0\n",
      "Input: (1, 0) -> Output: 1\n",
      "Input: (1, 1) -> Output: 0\n"
     ]
    }
   ],
   "source": [
    "def andnot(x1, x2, w1=1, w2=-1, threshold=1):\n",
    "    \"\"\"\n",
    "    Parameters:\n",
    "    - x1, x2: Inputs to the neuron.\n",
    "    - w1, w2: Weights associated with x1 and x2 respectively. Default values are 1 and -1.\n",
    "    - threshold: Activation threshold of the neuron. Default value is 0.\n",
    "\n",
    "    Returns:\n",
    "    - 1 if the weighted sum of inputs exceeds the threshold, else returns 0.\n",
    "    \"\"\"\n",
    "    # weighted sum of inputs\n",
    "    y = (x1 * w1) + (x2 * w2)\n",
    "    \n",
    "    # Check if the weighted sum exceeds the threshold\n",
    "    if y >= threshold:\n",
    "        return 1\n",
    "    else:\n",
    "        return 0\n",
    "\n",
    "# Testing\n",
    "if andnot(0, 0):\n",
    "    print(\"Neuron activated\")\n",
    "else:\n",
    "    print(\"Neuron not activated\")\n",
    "    # Test all possible input combinations\n",
    "input_combinations = [(0, 0), (0, 1), (1, 0), (1, 1)]\n",
    "\n",
    "# Define weights and threshold\n",
    "w1 = 1\n",
    "w2 = -1\n",
    "threshold = 1\n",
    "\n",
    "# Test the neuron for each input combination\n",
    "for x1, x2 in input_combinations:\n",
    "    output = andnot(x1, x2, w1, w2, threshold)\n",
    "    print(f\"Input: ({x1}, {x2}) -> Output: {output}\")"
   ]
  },
  {
   "cell_type": "code",
   "execution_count": null,
   "id": "1a79d80c",
   "metadata": {},
   "outputs": [],
   "source": []
  }
 ],
 "metadata": {
  "kernelspec": {
   "display_name": "Python 3 (ipykernel)",
   "language": "python",
   "name": "python3"
  },
  "language_info": {
   "codemirror_mode": {
    "name": "ipython",
    "version": 3
   },
   "file_extension": ".py",
   "mimetype": "text/x-python",
   "name": "python",
   "nbconvert_exporter": "python",
   "pygments_lexer": "ipython3",
   "version": "3.9.13"
  },
  "varInspector": {
   "cols": {
    "lenName": 16,
    "lenType": 16,
    "lenVar": 40
   },
   "kernels_config": {
    "python": {
     "delete_cmd_postfix": "",
     "delete_cmd_prefix": "del ",
     "library": "var_list.py",
     "varRefreshCmd": "print(var_dic_list())"
    },
    "r": {
     "delete_cmd_postfix": ") ",
     "delete_cmd_prefix": "rm(",
     "library": "var_list.r",
     "varRefreshCmd": "cat(var_dic_list()) "
    }
   },
   "types_to_exclude": [
    "module",
    "function",
    "builtin_function_or_method",
    "instance",
    "_Feature"
   ],
   "window_display": false
  }
 },
 "nbformat": 4,
 "nbformat_minor": 5
}
