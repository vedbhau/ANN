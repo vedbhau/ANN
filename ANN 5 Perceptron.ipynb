{
 "cells": [
  {
   "cell_type": "markdown",
   "id": "4146f340",
   "metadata": {},
   "source": [
    "Perceptron Concept:\n",
    "A perceptron is the simplest form of a neural network, used for binary classification tasks. It takes multiple input features, each multiplied by a corresponding weight, and produces a single binary output. The output is computed by applying an activation function to the weighted sum of inputs plus a bias.\n",
    "\n",
    "The training process involves adjusting the weights and bias based on the errors between predicted and actual labels. The perceptron learning algorithm iterates through the training data, updating the weights and bias to minimize classification errors.\n",
    "\n",
    "In this code, the perceptron is trained on synthetic data and visualized with a decision boundary line separating the two classes. The decision boundary is determined by the learned weights and bias, and it separates the feature space into two regions corresponding to the two classes."
   ]
  },
  {
   "cell_type": "code",
   "execution_count": null,
   "id": "75eed76a",
   "metadata": {},
   "outputs": [],
   "source": [
    "import numpy as np\n",
    "import matplotlib.pyplot as plt\n",
    "import pandas as pd\n",
    "\n",
    "# Activation function (Step function)\n",
    "def activation(output):\n",
    "    return 1 if output >= 0 else 0\n",
    "\n",
    "# Perceptron prediction function\n",
    "def predict(test, weights, bias):\n",
    "    wsum = np.dot(test, weights) + bias\n",
    "    return activation(wsum)\n",
    "\n",
    "# Perceptron training function\n",
    "def train_perceptron(inputs, labels, epochs=100, learning_rate=0.1):\n",
    "    num_features = inputs.shape[1]\n",
    "    weights = np.random.rand(num_features)\n",
    "    bias = 1\n",
    "\n",
    "    for _ in range(epochs):\n",
    "        for input_row, label in zip(inputs, labels):\n",
    "            predicted = predict(input_row, weights, bias)\n",
    "            error = label - predicted\n",
    "            weights += learning_rate * error * input_row\n",
    "            bias += learning_rate * error\n",
    "\n",
    "    return weights, bias\n",
    "\n",
    "# Generate synthetic data\n",
    "inputs = np.array([[1, 1], [2, 2], [4, 4], [5, 5], [2, 3]])\n",
    "labels = np.array([0, 0, 1, 1, 0])\n",
    "\n",
    "# Train the perceptron\n",
    "trained_weights, trained_bias = train_perceptron(inputs, labels)\n",
    "\n",
    "# Test a sample\n",
    "test_sample = np.array([3, 4])\n",
    "prediction = predict(test_sample, trained_weights, trained_bias)\n",
    "print(\"Prediction for test sample:\", prediction)\n",
    "\n",
    "# Visualization\n",
    "df = pd.DataFrame(inputs, columns=['X', 'Y'])\n",
    "df['Labels'] = labels\n",
    "\n",
    "x = df['X']\n",
    "y = (-trained_weights[0] / trained_weights[1]) * df['X'] - (trained_bias / trained_weights[1])\n",
    "plt.plot(x, y, color='red')\n",
    "plt.scatter(x=test_sample[0], y=test_sample[1], color='blue')\n",
    "plt.scatter(x=df['X'], y=df['Y'], c=labels, cmap='coolwarm')\n",
    "plt.xlabel('Feature 1')\n",
    "plt.ylabel('Feature 2')\n",
    "plt.title('Decision Boundary of Perceptron')\n",
    "plt.grid(True)\n",
    "plt.show()\n"
   ]
  }
 ],
 "metadata": {
  "kernelspec": {
   "display_name": "Python 3 (ipykernel)",
   "language": "python",
   "name": "python3"
  },
  "language_info": {
   "codemirror_mode": {
    "name": "ipython",
    "version": 3
   },
   "file_extension": ".py",
   "mimetype": "text/x-python",
   "name": "python",
   "nbconvert_exporter": "python",
   "pygments_lexer": "ipython3",
   "version": "3.9.13"
  },
  "varInspector": {
   "cols": {
    "lenName": 16,
    "lenType": 16,
    "lenVar": 40
   },
   "kernels_config": {
    "python": {
     "delete_cmd_postfix": "",
     "delete_cmd_prefix": "del ",
     "library": "var_list.py",
     "varRefreshCmd": "print(var_dic_list())"
    },
    "r": {
     "delete_cmd_postfix": ") ",
     "delete_cmd_prefix": "rm(",
     "library": "var_list.r",
     "varRefreshCmd": "cat(var_dic_list()) "
    }
   },
   "types_to_exclude": [
    "module",
    "function",
    "builtin_function_or_method",
    "instance",
    "_Feature"
   ],
   "window_display": false
  }
 },
 "nbformat": 4,
 "nbformat_minor": 5
}
