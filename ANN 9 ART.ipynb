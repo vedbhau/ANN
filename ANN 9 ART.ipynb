{
 "cells": [
  {
   "cell_type": "markdown",
   "id": "4eafc036",
   "metadata": {},
   "source": [
    "ART Concept:\n",
    "ART is a type of unsupervised neural network that aims to solve the stability-plasticity dilemma. It consists of two layers: the input layer and the competitive layer. ART networks are used for clustering and pattern recognition tasks.\n",
    "\n",
    "The key components of an ART network are:\n",
    "\n",
    "Vigilance Parameter (rho): It controls the level of similarity between input patterns that will be accepted by the network.\n",
    "\n",
    "Learning Rate (alpha): It determines how much the weights will be adjusted during learning.\n",
    "\n",
    "Reset Mechanism: If an input pattern fails to activate any neurons in the competitive layer, the network resets itself to learn the new input pattern.\n",
    "\n",
    "Update Mechanism: If an input pattern activates a neuron, the network updates its weights to better match the input.\n",
    "\n",
    "In this code, the network is trained using the given input patterns. The weight matrix W is updated based on the input patterns and the vigilance parameter rho"
   ]
  },
  {
   "cell_type": "code",
   "execution_count": 1,
   "id": "b78a4900",
   "metadata": {},
   "outputs": [
    {
     "name": "stdout",
     "output_type": "stream",
     "text": [
      "[[0.8637 0.8853]]\n"
     ]
    }
   ],
   "source": [
    "import numpy as np\n",
    "class ART:\n",
    "    def __init__(self, input_size, rho, alpha):\n",
    "        self.W = np.ones((1, input_size))\n",
    "        self.rho = rho\n",
    "        self.alpha = alpha\n",
    " \n",
    "    def reset(self):\n",
    "        self.W = np.ones((1, input_size))\n",
    " \n",
    "    def train(self, x):\n",
    "        while True:\n",
    "            y = self.predict(x)\n",
    "            if y is not None:\n",
    "                self.update(x)\n",
    "                return\n",
    "            else:\n",
    "                self.reset()\n",
    "\n",
    "    def predict(self, x):\n",
    "        y = x.dot(self.W.T)\n",
    "        if y >= self.rho:\n",
    "            return y\n",
    "        else:\n",
    "             return None\n",
    " \n",
    "    def update(self, x):\n",
    "        self.W = self.alpha * x + (1 - self.alpha) * self.W\n",
    "\n",
    "if __name__ == '__main__':\n",
    "   input_size = 2\n",
    "   rho = 0.9\n",
    "   alpha = 0.1\n",
    "   network = ART(input_size, rho, alpha)\n",
    "   x1 = np.array([0.7, 0.3])\n",
    "   x2 = np.array([0.2, 0.8])\n",
    "   x3 = np.array([0.6, 0.6])\n",
    "   network.train(x1)\n",
    "   network.train(x2)\n",
    "   network.train(x3)\n",
    "   print(network.W)"
   ]
  },
  {
   "cell_type": "code",
   "execution_count": null,
   "id": "51cdb15d",
   "metadata": {},
   "outputs": [],
   "source": []
  }
 ],
 "metadata": {
  "kernelspec": {
   "display_name": "Python 3 (ipykernel)",
   "language": "python",
   "name": "python3"
  },
  "language_info": {
   "codemirror_mode": {
    "name": "ipython",
    "version": 3
   },
   "file_extension": ".py",
   "mimetype": "text/x-python",
   "name": "python",
   "nbconvert_exporter": "python",
   "pygments_lexer": "ipython3",
   "version": "3.9.13"
  },
  "varInspector": {
   "cols": {
    "lenName": 16,
    "lenType": 16,
    "lenVar": 40
   },
   "kernels_config": {
    "python": {
     "delete_cmd_postfix": "",
     "delete_cmd_prefix": "del ",
     "library": "var_list.py",
     "varRefreshCmd": "print(var_dic_list())"
    },
    "r": {
     "delete_cmd_postfix": ") ",
     "delete_cmd_prefix": "rm(",
     "library": "var_list.r",
     "varRefreshCmd": "cat(var_dic_list()) "
    }
   },
   "types_to_exclude": [
    "module",
    "function",
    "builtin_function_or_method",
    "instance",
    "_Feature"
   ],
   "window_display": false
  }
 },
 "nbformat": 4,
 "nbformat_minor": 5
}
